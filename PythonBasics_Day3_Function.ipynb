{
 "cells": [
  {
   "cell_type": "code",
   "execution_count": 12,
   "metadata": {},
   "outputs": [
    {
     "name": "stdout",
     "output_type": "stream",
     "text": [
      "1\n",
      "2\n",
      "6\n",
      "24\n",
      "120\n",
      "factorial :  120\n"
     ]
    }
   ],
   "source": [
    "num = 5\n",
    "factorial = 1\n",
    "for i in range(1,num+1):\n",
    "    factorial = factorial*i\n",
    "    print(factorial)\n",
    "print(\"factorial : \",factorial)"
   ]
  },
  {
   "cell_type": "markdown",
   "metadata": {},
   "source": [
    "#Function \n",
    "\n",
    "#def function_name(parameters):\n",
    "#    \"\"\" doc string \"\"\"\n",
    "#    statement\n",
    "#    return \"\"\n",
    "\n",
    "1. def - syntax\n",
    "2.function_name - identifier\n",
    "3.parameter - optional\n",
    "4.: mandatory\n",
    "5.doc string - optional\n",
    "6.return\n",
    "7.() - mandatory\n"
   ]
  },
  {
   "cell_type": "code",
   "execution_count": 17,
   "metadata": {},
   "outputs": [
    {
     "name": "stdout",
     "output_type": "stream",
     "text": [
      "Hello,Noor. Good morning!\n",
      "Hello,Hari. Good morning!\n",
      "Hello,Kalai. Good morning!\n",
      "Hello,yasar. Good morning!\n",
      "This function greets to \n",
      "    the person passed in as parameter\n",
      "print(value, ..., sep=' ', end='\\n', file=sys.stdout, flush=False)\n",
      "\n",
      "Prints the values to a stream, or to sys.stdout by default.\n",
      "Optional keyword arguments:\n",
      "file:  a file-like object (stream); defaults to the current sys.stdout.\n",
      "sep:   string inserted between values, default a space.\n",
      "end:   string appended after the last value, default a newline.\n",
      "flush: whether to forcibly flush the stream.\n"
     ]
    }
   ],
   "source": [
    "def greet(name):\n",
    "    \"\"\"This function greets to \n",
    "    the person passed in as parameter\"\"\"\n",
    "    print(\"Hello,\" + name + \". Good morning!\")\n",
    "\n",
    "greet(\"Noor\")\n",
    "greet(\"Hari\")\n",
    "greet(\"Kalai\")\n",
    "greet(\"yasar\")\n",
    "\n",
    "print(greet.__doc__)\n",
    "\n",
    "print(print.__doc__)\n",
    "\n"
   ]
  },
  {
   "cell_type": "code",
   "execution_count": 22,
   "metadata": {},
   "outputs": [
    {
     "name": "stdout",
     "output_type": "stream",
     "text": [
      "3\n",
      "3\n",
      " This function returns the absolute value of entered number\n"
     ]
    }
   ],
   "source": [
    "#return\n",
    "\n",
    "def abs_value(num):\n",
    "    \"\"\" This function returns the absolute value of entered number\"\"\"\n",
    "    if(num >=0):\n",
    "        return num\n",
    "    else:\n",
    "        return -num\n",
    "\n",
    "print(abs_value(-3))\n",
    "print(abs_value(3))\n",
    "\n",
    "print(abs_value.__doc__)\n"
   ]
  },
  {
   "cell_type": "code",
   "execution_count": 28,
   "metadata": {},
   "outputs": [
    {
     "name": "stdout",
     "output_type": "stream",
     "text": [
      " : 10\n",
      " : 20\n",
      "value of x inside func : 20\n",
      "value of x outside func : 10\n"
     ]
    }
   ],
   "source": [
    "x = 10\n",
    "print(\" :\",x)\n",
    "x= 20\n",
    "print(\" :\",x)\n",
    "\n",
    "\n",
    "\n",
    "def func(x,y,z):\n",
    "    x = 20\n",
    "    print(\"value of x inside func :\",x)\n",
    "\n",
    "x = y=z =10\n",
    "\n",
    "func(x,y,z)\n",
    "print(\"value of x outside func :\",x)\n",
    "\n",
    "\n",
    "\n",
    "\n"
   ]
  },
  {
   "cell_type": "code",
   "execution_count": 36,
   "metadata": {},
   "outputs": [
    {
     "name": "stdout",
     "output_type": "stream",
     "text": [
      "Hello  , Good Morning\n",
      "Hello  , How are you?\n",
      "1 2 3\n"
     ]
    }
   ],
   "source": [
    "def greet(name, msg = \"Good Morning\"):\n",
    "    \"\"\"This function greets to \n",
    "    the person passed in as parameter\"\"\"\n",
    "    print(\"Hello \" + name +\" , \" + msg)\n",
    "          \n",
    "greet(\"noor\")\n",
    "greet(\"abc\",\"How are you?\")\n",
    "\n"
   ]
  },
  {
   "cell_type": "code",
   "execution_count": 41,
   "metadata": {},
   "outputs": [
    {
     "name": "stdout",
     "output_type": "stream",
     "text": [
      "Hello noor\n",
      "Hello hari\n",
      "Hello kalai\n",
      "Hello yasar\n"
     ]
    }
   ],
   "source": [
    "#Python arbitrary arguments\n",
    "\n",
    "def greet(*name):\n",
    "    \"\"\"This function greets to \n",
    "    the person passed in as parameter\"\"\"\n",
    "    #name is a tuple with arguments\n",
    "    #name[0] = \"abc\"\n",
    "    for i in name:\n",
    "        print(\"Hello \" + i)\n",
    "greet(\"noor\",\"hari\",\"kalai\",\"yasar\")"
   ]
  }
 ],
 "metadata": {
  "kernelspec": {
   "display_name": "Python 3",
   "language": "python",
   "name": "python3"
  },
  "language_info": {
   "codemirror_mode": {
    "name": "ipython",
    "version": 3
   },
   "file_extension": ".py",
   "mimetype": "text/x-python",
   "name": "python",
   "nbconvert_exporter": "python",
   "pygments_lexer": "ipython3",
   "version": "3.6.1"
  }
 },
 "nbformat": 4,
 "nbformat_minor": 2
}
