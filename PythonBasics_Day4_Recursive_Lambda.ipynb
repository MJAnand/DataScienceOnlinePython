{
 "cells": [
  {
   "cell_type": "code",
   "execution_count": 5,
   "metadata": {},
   "outputs": [
    {
     "name": "stdout",
     "output_type": "stream",
     "text": [
      "Sum of  5  natural numbers =  15\n",
      "Factorial of  5  =  120\n"
     ]
    }
   ],
   "source": [
    "#Recursive Function\n",
    "#The function which calls by itself\n",
    "\n",
    "#Normal traditional loop\n",
    "#sum n natural numbers\n",
    "def sum_natural_numbers(num):\n",
    "    sum = 0;\n",
    "    for i in range(1,num+1):\n",
    "        sum += i # sum = sum + i\n",
    "    print(\"Sum of \",num,\" natural numbers = \",sum)\n",
    "    \n",
    "sum_natural_numbers(5)\n",
    "#5+4+3+2+1\n",
    "\n",
    "def factorial_numbers(num):\n",
    "    fact = 1;\n",
    "    for i in range(1,num+1):\n",
    "        fact *= i # sum = sum + i\n",
    "    print(\"Factorial of \",num,\" = \",fact)\n",
    "    \n",
    "factorial_numbers(5)\n",
    "#5*4*3*2*1\n"
   ]
  },
  {
   "cell_type": "code",
   "execution_count": 8,
   "metadata": {},
   "outputs": [
    {
     "name": "stdout",
     "output_type": "stream",
     "text": [
      "Enter the number for suming natual numbers6\n",
      "Sum of  6  natural numbers =  21\n",
      "Factorial of  5   =  120\n"
     ]
    }
   ],
   "source": [
    "#Recursive\n",
    "\n",
    "def sum_natural_numbers_recursive(num):\n",
    "    if num == 1:\n",
    "        return 1\n",
    "    else:\n",
    "        return (num + sum_natural_numbers_recursive(num - 1))\n",
    "    \n",
    "a = int(input(\"Enter the number for suming natual numbers\"))\n",
    "print(\"Sum of \",a,\" natural numbers = \",sum_natural_numbers_recursive(a))\n",
    "\n",
    "\n",
    "\n",
    "def factorial_recursive(num):\n",
    "    if num == 1:\n",
    "        return 1\n",
    "    else:\n",
    "        return (num * factorial_recursive(num - 1))\n",
    "    \n",
    "print(\"Factorial of \",5,\"  = \",factorial_recursive(5))\n"
   ]
  },
  {
   "cell_type": "markdown",
   "metadata": {},
   "source": [
    "Advantage:\n",
    "1. Makes the code look clean\n",
    "2. Commplex task can be broken down into simpler sub probelms\n",
    "\n",
    "Disadvantage:\n",
    "1. Hard to follow through\n",
    "2. Takes lot of time and memory\n",
    "3. Hard to debug"
   ]
  },
  {
   "cell_type": "code",
   "execution_count": 14,
   "metadata": {},
   "outputs": [
    {
     "name": "stdout",
     "output_type": "stream",
     "text": [
      "16\n",
      "6\n"
     ]
    }
   ],
   "source": [
    "#Lamda Function\n",
    "\n",
    "def square(num):  \n",
    "    return num **2\n",
    "\n",
    "#print(square(2))\n",
    "\n",
    "\n",
    "f = lambda x : x**2\n",
    "\n",
    "print(f(4))\n",
    "\n",
    "sum = lambda a,b : a+b\n",
    "print(sum(2,4))"
   ]
  },
  {
   "cell_type": "code",
   "execution_count": 18,
   "metadata": {},
   "outputs": [
    {
     "data": {
      "text/plain": [
       "[1, 9, 16, 36, 25, 9, 4, 1, 9, 16, 25, 36, 36]"
      ]
     },
     "execution_count": 18,
     "metadata": {},
     "output_type": "execute_result"
    }
   ],
   "source": [
    "#map, filter and reduce\n",
    "\n",
    "#r = map(func, seq)\n",
    "\n",
    "my_list = list((1,3,4,6,5,3,2,1,3,4,5,6,6))\n",
    "\n",
    "list(map(square,my_list))\n",
    "\n",
    "list(map(f,my_list))"
   ]
  },
  {
   "cell_type": "code",
   "execution_count": 28,
   "metadata": {},
   "outputs": [
    {
     "name": "stdout",
     "output_type": "stream",
     "text": [
      "[18, 10, 2, 4, 9]\n"
     ]
    }
   ],
   "source": [
    "a = [2,3,4,5,6]\n",
    "b = [17,4,3,5,7,10]\n",
    "c = [-1,3,-5,-6,-4]\n",
    "\n",
    "list(map(lambda x,y : x+y,a,b))\n",
    "print(list(map(lambda x,y,z : x+y+z,a,b,c)))\n",
    "\n"
   ]
  },
  {
   "cell_type": "code",
   "execution_count": 31,
   "metadata": {},
   "outputs": [
    {
     "data": {
      "text/plain": [
       "[4, 6, 2, 4, 6, 6]"
      ]
     },
     "execution_count": 31,
     "metadata": {},
     "output_type": "execute_result"
    }
   ],
   "source": [
    "#filter(func-condition, seq)\n",
    "\n",
    "list(filter(lambda x : (x%2 == 0),my_list))"
   ]
  },
  {
   "cell_type": "code",
   "execution_count": 36,
   "metadata": {},
   "outputs": [
    {
     "data": {
      "text/plain": [
       "77"
      ]
     },
     "execution_count": 36,
     "metadata": {},
     "output_type": "execute_result"
    }
   ],
   "source": [
    "#reduce\n",
    "#reduce(func, seq)\n",
    "from functools import reduce\n",
    "list1 = [1,2,3,4]\n",
    "reduce(lambda x,y:x+y,list1)\n",
    "\n",
    "\n",
    "f = lambda a,b : a if (a > b) else b\n",
    "reduce(f,[43,43,54,5,65,77,65,54,43,32,32,2,3,4,5,5,4,65,2])\n",
    "\n",
    "\n"
   ]
  },
  {
   "cell_type": "code",
   "execution_count": 39,
   "metadata": {},
   "outputs": [
    {
     "data": {
      "text/plain": [
       "24"
      ]
     },
     "execution_count": 39,
     "metadata": {},
     "output_type": "execute_result"
    }
   ],
   "source": [
    "reduce(lambda x,y:x*y,range(1,5))"
   ]
  },
  {
   "cell_type": "code",
   "execution_count": 44,
   "metadata": {},
   "outputs": [
    {
     "name": "stdout",
     "output_type": "stream",
     "text": [
      "[1, 4, 9, 16]\n"
     ]
    },
    {
     "data": {
      "text/plain": [
       "[(3, 4, 5),\n",
       " (5, 12, 13),\n",
       " (6, 8, 10),\n",
       " (7, 24, 25),\n",
       " (8, 15, 17),\n",
       " (9, 12, 15),\n",
       " (10, 24, 26),\n",
       " (12, 16, 20),\n",
       " (15, 20, 25),\n",
       " (20, 21, 29)]"
      ]
     },
     "execution_count": 44,
     "metadata": {},
     "output_type": "execute_result"
    }
   ],
   "source": [
    "#list comprehension\n",
    "f = [x**2 for x in range(1,5)]\n",
    "print(f)\n",
    "\n",
    "[(x,y,z) for x in range(1,30) for y in range(x,30) for z in range(y,30) if x**2 + y **2 == z **2]"
   ]
  },
  {
   "cell_type": "code",
   "execution_count": 45,
   "metadata": {},
   "outputs": [
    {
     "data": {
      "text/plain": [
       "[('red', 'house'),\n",
       " ('red', 'car'),\n",
       " ('red', 'tree'),\n",
       " ('green', 'house'),\n",
       " ('green', 'car'),\n",
       " ('green', 'tree'),\n",
       " ('yellow', 'house'),\n",
       " ('yellow', 'car'),\n",
       " ('yellow', 'tree'),\n",
       " ('blue', 'house'),\n",
       " ('blue', 'car'),\n",
       " ('blue', 'tree')]"
      ]
     },
     "execution_count": 45,
     "metadata": {},
     "output_type": "execute_result"
    }
   ],
   "source": [
    "colors = [\"red\", \"green\", \"yellow\", \"blue\"]\n",
    "things = [\"house\", \"car\", \"tree\"]\n",
    "[( x,y ) for x in colors for y in things]"
   ]
  }
 ],
 "metadata": {
  "kernelspec": {
   "display_name": "Python 3",
   "language": "python",
   "name": "python3"
  },
  "language_info": {
   "codemirror_mode": {
    "name": "ipython",
    "version": 3
   },
   "file_extension": ".py",
   "mimetype": "text/x-python",
   "name": "python",
   "nbconvert_exporter": "python",
   "pygments_lexer": "ipython3",
   "version": "3.6.1"
  }
 },
 "nbformat": 4,
 "nbformat_minor": 2
}
