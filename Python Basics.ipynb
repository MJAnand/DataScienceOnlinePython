{
 "cells": [
  {
   "cell_type": "markdown",
   "metadata": {},
   "source": [
    "Python Interpreter language\n",
    "\n",
    "C:/pythonxx\n",
    "xx = version"
   ]
  },
  {
   "cell_type": "code",
   "execution_count": 8,
   "metadata": {},
   "outputs": [
    {
     "data": {
      "text/plain": [
       "'Immediate mode    \\n    Script mode    \\n    IDE'"
      ]
     },
     "execution_count": 8,
     "metadata": {},
     "output_type": "execute_result"
    }
   ],
   "source": [
    "# Mode of running python language\n",
    "\"\"\"Multiple line comments\"\"\"\n",
    "'''1. Immediate mode - python \n",
    "   2. Script mode    - python name.py\n",
    "   3. IDE  - spyder, pycharm'''  \n",
    "\n",
    "\n"
   ]
  },
  {
   "cell_type": "code",
   "execution_count": 9,
   "metadata": {},
   "outputs": [
    {
     "ename": "SyntaxError",
     "evalue": "invalid syntax (<ipython-input-9-b3dcff78f696>, line 5)",
     "output_type": "error",
     "traceback": [
      "\u001b[1;36m  File \u001b[1;32m\"<ipython-input-9-b3dcff78f696>\"\u001b[1;36m, line \u001b[1;32m5\u001b[0m\n\u001b[1;33m    if = 4\u001b[0m\n\u001b[1;37m       ^\u001b[0m\n\u001b[1;31mSyntaxError\u001b[0m\u001b[1;31m:\u001b[0m invalid syntax\n"
     ]
    }
   ],
   "source": [
    "#python Keywords\n",
    "# reserved set of variable\n",
    "# Ex: if, break, for, True, False, import, etc.....\n",
    "\n",
    "if = 4"
   ]
  },
  {
   "cell_type": "code",
   "execution_count": 19,
   "metadata": {},
   "outputs": [
    {
     "name": "stdout",
     "output_type": "stream",
     "text": [
      "5\n",
      "6\n"
     ]
    }
   ],
   "source": [
    "#Identifier\n",
    "\n",
    "# Name given to function, class, variable\n",
    "\"\"\"\n",
    "1. a to z\n",
    "2. A to Z\n",
    "3. 0 to 9\n",
    "4. Cannot start with number \"\"\"\n",
    "\n",
    "Abc = 123\n",
    "Abc123 = \"hello\"\n",
    "#123Abc = \"world\"\n",
    "\n",
    "\"\"\"\n",
    "5. It should not use keyword\n",
    "6. Cannaot use special symbols like !,@,#,$,%\n",
    "7. Identifiers can be of any length \n",
    "8. Cannot have space in between \n",
    "9. It is case sensitive\n",
    "\"\"\"\n",
    "\n",
    "#for = 324\n",
    "\n",
    "#$@de = 43\n",
    "#fdedwwqeeeeeeeeeeeeeeeeeeeeeeeeeeeeeeeeee3222222222emdfiscndscjbdhcsb cjsdnciodchfuds =23\n",
    "dfdfsdnfdsf9dfu88dfhdsjfndsjfbnsdfhdbsf8dsuf9dsi0dkfdskfnjdsfds8fu90dif0dfo0dfjdkfjndifu9dsfid = \"Hello world\"\n",
    "\n",
    "data = 5\n",
    "Data = 6\n",
    "\n",
    "print(data)\n",
    "print(Data)\n"
   ]
  },
  {
   "cell_type": "code",
   "execution_count": 31,
   "metadata": {},
   "outputs": [
    {
     "name": "stdout",
     "output_type": "stream",
     "text": [
      "Hi\n",
      "25\n",
      "47\n",
      "32 23 3\n",
      "4 5.04 hello\n",
      "data data data\n"
     ]
    }
   ],
   "source": [
    "#Statement\n",
    "a = 4 #Assignment statement\n",
    "if True: print(\"Hi\") #condition statement\n",
    "\n",
    "# Multiline statement\n",
    "b = 1 + 3 + 3 + \\\n",
    "    4 + 5 +5 + \\\n",
    "    4\n",
    "print(b)\n",
    "\n",
    "a = ( 2 +3 +3\n",
    "     +32 +3\n",
    "     +4\n",
    "    )\n",
    "\n",
    "print(a);\n",
    "\n",
    "a = 32 ; b = 23; c = 3;\n",
    "\n",
    "print(a,b,c)\n",
    "\n",
    "a, b, c = 4, 5.04, \"hello\"\n",
    "\n",
    "print(a,b,c)\n",
    "\n",
    "a = b = c = \"data\"\n",
    "\n",
    "print(a,b,c)\n",
    "\n"
   ]
  },
  {
   "cell_type": "code",
   "execution_count": 36,
   "metadata": {},
   "outputs": [
    {
     "name": "stdout",
     "output_type": "stream",
     "text": [
      "1\n",
      "inside for loop\n",
      "3\n",
      "inside for loop\n",
      "5\n",
      "inside for loop\n",
      "7\n",
      "inside for loop\n",
      "9\n",
      "inside for loop\n",
      "outside for loop\n"
     ]
    }
   ],
   "source": [
    "#Indentation\n",
    "\n",
    "for i in range(1,10,2):\n",
    "    print (i)\n",
    "    if(i==8):\n",
    "        print(\"8 is printed\")\n",
    "        break\n",
    "    print(\"inside for loop\")\n",
    "print(\"outside for loop\")"
   ]
  },
  {
   "cell_type": "code",
   "execution_count": 39,
   "metadata": {},
   "outputs": [
    {
     "name": "stdout",
     "output_type": "stream",
     "text": [
      "1\n",
      "2\n",
      "3\n",
      "4\n",
      "5\n",
      "6\n",
      "7\n",
      "8\n",
      "9\n",
      "df\n"
     ]
    }
   ],
   "source": [
    "for i in range(1,10): print(i)\n",
    "print(\"df\")"
   ]
  },
  {
   "cell_type": "code",
   "execution_count": 45,
   "metadata": {},
   "outputs": [
    {
     "name": "stdout",
     "output_type": "stream",
     "text": [
      "a is of type <class 'int'>\n",
      "b is of type <class 'float'>\n",
      "c is of type <class 'str'>\n",
      "d is of type <class 'complex'>\n",
      "a is of type <class 'str'>\n"
     ]
    }
   ],
   "source": [
    "#Data Types\n",
    "\n",
    "a = 5\n",
    "print(\"a is of type\",type(a))\n",
    "b = 2.0\n",
    "print(\"b is of type\",type(b))\n",
    "c = \"string\"\n",
    "print(\"c is of type\",type(c))\n",
    "d = 2+4j\n",
    "print(\"d is of type\",type(d))\n",
    "\n",
    "a = \"hello\"\n",
    "print(\"a is of type\",type(a))\n"
   ]
  },
  {
   "cell_type": "code",
   "execution_count": 49,
   "metadata": {},
   "outputs": [
    {
     "name": "stdout",
     "output_type": "stream",
     "text": [
      "a is of type <class 'list'>\n",
      "a[0] =  1\n",
      "a =  ['Hello', 3.4, 'Hi']\n"
     ]
    }
   ],
   "source": [
    "#list\n",
    "\n",
    "a = [1, 3.4, \"Hi\"]\n",
    "print(\"a is of type\",type(a))\n",
    "print(\"a[0] = \",a[0])\n",
    "\n",
    "#Mutable\n",
    "a[0] = \"Hello\"\n",
    "print(\"a = \",a)\n"
   ]
  },
  {
   "cell_type": "code",
   "execution_count": 52,
   "metadata": {},
   "outputs": [
    {
     "name": "stdout",
     "output_type": "stream",
     "text": [
      "a is of type <class 'tuple'>\n",
      "a[0] =  5\n"
     ]
    },
    {
     "ename": "TypeError",
     "evalue": "'tuple' object does not support item assignment",
     "output_type": "error",
     "traceback": [
      "\u001b[1;31m---------------------------------------------------------------------------\u001b[0m",
      "\u001b[1;31mTypeError\u001b[0m                                 Traceback (most recent call last)",
      "\u001b[1;32m<ipython-input-52-73cdf7ef210b>\u001b[0m in \u001b[0;36m<module>\u001b[1;34m()\u001b[0m\n\u001b[0;32m      6\u001b[0m \u001b[1;33m\u001b[0m\u001b[0m\n\u001b[0;32m      7\u001b[0m \u001b[1;31m#Immutable\u001b[0m\u001b[1;33m\u001b[0m\u001b[1;33m\u001b[0m\u001b[0m\n\u001b[1;32m----> 8\u001b[1;33m \u001b[0ma\u001b[0m\u001b[1;33m[\u001b[0m\u001b[1;36m0\u001b[0m\u001b[1;33m]\u001b[0m \u001b[1;33m=\u001b[0m \u001b[1;34m\"Hello\"\u001b[0m\u001b[1;33m\u001b[0m\u001b[0m\n\u001b[0m\u001b[0;32m      9\u001b[0m \u001b[0mprint\u001b[0m\u001b[1;33m(\u001b[0m\u001b[1;34m\"a = \"\u001b[0m\u001b[1;33m,\u001b[0m\u001b[0ma\u001b[0m\u001b[1;33m)\u001b[0m\u001b[1;33m\u001b[0m\u001b[0m\n",
      "\u001b[1;31mTypeError\u001b[0m: 'tuple' object does not support item assignment"
     ]
    }
   ],
   "source": [
    "#tuple\n",
    "\n",
    "a = (5 , \"Hello\", 1+2j)\n",
    "print(\"a is of type\",type(a))\n",
    "print(\"a[0] = \",a[0])\n",
    "\n",
    "#Immutable\n",
    "a[0] = \"Hello\"\n",
    "print(\"a = \",a)\n"
   ]
  },
  {
   "cell_type": "code",
   "execution_count": 55,
   "metadata": {},
   "outputs": [
    {
     "name": "stdout",
     "output_type": "stream",
     "text": [
      "s is of type <class 'str'>\n",
      "s[0] =  H\n"
     ]
    },
    {
     "ename": "TypeError",
     "evalue": "'str' object does not support item assignment",
     "output_type": "error",
     "traceback": [
      "\u001b[1;31m---------------------------------------------------------------------------\u001b[0m",
      "\u001b[1;31mTypeError\u001b[0m                                 Traceback (most recent call last)",
      "\u001b[1;32m<ipython-input-55-84e075b22696>\u001b[0m in \u001b[0;36m<module>\u001b[1;34m()\u001b[0m\n\u001b[0;32m      4\u001b[0m \u001b[0mprint\u001b[0m\u001b[1;33m(\u001b[0m\u001b[1;34m\"s[0] = \"\u001b[0m\u001b[1;33m,\u001b[0m\u001b[0ms\u001b[0m\u001b[1;33m[\u001b[0m\u001b[1;36m0\u001b[0m\u001b[1;33m]\u001b[0m\u001b[1;33m)\u001b[0m\u001b[1;33m\u001b[0m\u001b[0m\n\u001b[0;32m      5\u001b[0m \u001b[1;33m\u001b[0m\u001b[0m\n\u001b[1;32m----> 6\u001b[1;33m \u001b[0ms\u001b[0m\u001b[1;33m[\u001b[0m\u001b[1;36m0\u001b[0m\u001b[1;33m]\u001b[0m \u001b[1;33m=\u001b[0m \u001b[1;34m\"i\"\u001b[0m\u001b[1;33m\u001b[0m\u001b[0m\n\u001b[0m",
      "\u001b[1;31mTypeError\u001b[0m: 'str' object does not support item assignment"
     ]
    }
   ],
   "source": [
    "#String\n",
    "s = \"Hi How are you?\"\n",
    "print(\"s is of type\",type(s))\n",
    "print(\"s[0] = \",s[0])\n",
    "\n",
    "#Immutable\n",
    "s[0] = \"i\"\n"
   ]
  },
  {
   "cell_type": "code",
   "execution_count": 62,
   "metadata": {},
   "outputs": [
    {
     "name": "stdout",
     "output_type": "stream",
     "text": [
      "a is of type <class 'set'>\n",
      "set a =  {'dw', 1, 2, 3, 4, 5, (1+2j), 'cde'}\n"
     ]
    }
   ],
   "source": [
    "#set\n",
    "a = {5,2,3,1,4,4,4,\"dw\",\"cde\",1+2j}\n",
    "print(\"a is of type\",type(a))\n",
    "#print(\"a[0] = \",a[0])\n",
    "\n",
    "print(\"set a = \",a)\n",
    "\n",
    "#Does not allow duplicates\n",
    "\n",
    "# can't access the data using index\n"
   ]
  },
  {
   "cell_type": "code",
   "execution_count": 72,
   "metadata": {},
   "outputs": [
    {
     "name": "stdout",
     "output_type": "stream",
     "text": [
      "d is of type <class 'dict'>\n",
      "d[0] =  data1\n",
      "d[key] =  3\n"
     ]
    }
   ],
   "source": [
    "#dictinary\n",
    "\n",
    "d = {0:'data1',2:'data2','key':3}\n",
    "print(\"d is of type\",type(d))\n",
    "print(\"d[0] = \",d[0])\n",
    "\n",
    "print(\"d[key] = \",d['key'])\n",
    "\n"
   ]
  }
 ],
 "metadata": {
  "kernelspec": {
   "display_name": "Python 3",
   "language": "python",
   "name": "python3"
  },
  "language_info": {
   "codemirror_mode": {
    "name": "ipython",
    "version": 3
   },
   "file_extension": ".py",
   "mimetype": "text/x-python",
   "name": "python",
   "nbconvert_exporter": "python",
   "pygments_lexer": "ipython3",
   "version": "3.6.1"
  }
 },
 "nbformat": 4,
 "nbformat_minor": 2
}
