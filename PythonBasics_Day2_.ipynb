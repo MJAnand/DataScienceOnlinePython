{
 "cells": [
  {
   "cell_type": "code",
   "execution_count": 7,
   "metadata": {},
   "outputs": [
    {
     "name": "stdout",
     "output_type": "stream",
     "text": [
      "3\n",
      "5.0\n",
      "Type of a :  <class 'str'>\n"
     ]
    },
    {
     "ename": "ValueError",
     "evalue": "invalid literal for int() with base 10: '1a'",
     "output_type": "error",
     "traceback": [
      "\u001b[1;31m---------------------------------------------------------------------------\u001b[0m",
      "\u001b[1;31mValueError\u001b[0m                                Traceback (most recent call last)",
      "\u001b[1;32m<ipython-input-7-94a1dece66e1>\u001b[0m in \u001b[0;36m<module>\u001b[1;34m()\u001b[0m\n\u001b[0;32m      9\u001b[0m \u001b[0ma\u001b[0m\u001b[1;33m\u001b[0m\u001b[0m\n\u001b[0;32m     10\u001b[0m \u001b[1;33m\u001b[0m\u001b[0m\n\u001b[1;32m---> 11\u001b[1;33m \u001b[0mint\u001b[0m\u001b[1;33m(\u001b[0m\u001b[1;34m'1a'\u001b[0m\u001b[1;33m)\u001b[0m\u001b[1;33m\u001b[0m\u001b[0m\n\u001b[0m",
      "\u001b[1;31mValueError\u001b[0m: invalid literal for int() with base 10: '1a'"
     ]
    }
   ],
   "source": [
    "#Conversion of data type\n",
    "\n",
    "print(int(3.987))\n",
    "\n",
    "print(float(5))\n",
    "\n",
    "a = str(10)\n",
    "print(\"Type of a : \",type(a))\n",
    "a\n",
    "\n",
    "#It should be compatible types\n",
    "int('1a')\n"
   ]
  },
  {
   "cell_type": "code",
   "execution_count": 20,
   "metadata": {},
   "outputs": [
    {
     "name": "stdout",
     "output_type": "stream",
     "text": [
      "[1, 2, 3, 1, 1, 2, 3]\n",
      "{1, 2, 3, 4, 56}\n"
     ]
    },
    {
     "data": {
      "text/plain": [
       "{1: 2, 3: 1, 4: 3}"
      ]
     },
     "execution_count": 20,
     "metadata": {},
     "output_type": "execute_result"
    }
   ],
   "source": [
    "#Convertion of one sequence to other\n",
    "\n",
    "a = list({1,2,3,1,1,2,3})\n",
    "\n",
    "a = list((1,2,3,1,1,2,3))\n",
    "\n",
    "print(a)\n",
    "\n",
    "type(a)\n",
    "\n",
    "b = tuple({1,2,3,4,1,23,1})\n",
    "\n",
    "#b[1] = 4\n",
    "\n",
    "c = set([1,2,1,1,1,2,3,4,56,3])\n",
    "\n",
    "print(c)\n",
    "\n",
    "dict([[1,2],[4,3],[3,1]])"
   ]
  },
  {
   "cell_type": "code",
   "execution_count": 29,
   "metadata": {},
   "outputs": [
    {
     "name": "stdout",
     "output_type": "stream",
     "text": [
      "fdfdsf fdsfdsfdsf dfsdfdsf  {1, 2, 3, 4, 56} fsdf: \n",
      "fdfdsf fdsfdsfdsf dfsdfdsf {1, 2, 3, 4, 56} fsdf: \n",
      "fdfdsf fdsfdsfdsf dfsdfdsf [1, 2, 3, 1, 1, 2, 3] fsdf {1, 2, 3, 4, 56}: \n",
      "fdfdsf fdsfdsfdsf dfsdfdsf {1, 2, 3, 4, 56} fsdf [1, 2, 3, 1, 1, 2, 3]: \n",
      "The square root  10f 2.828 \n"
     ]
    }
   ],
   "source": [
    "print(\"fdfdsf fdsfdsfdsf dfsdfdsf \", c, \"fsdf: \")\n",
    "\n",
    "print(\"fdfdsf fdsfdsfdsf dfsdfdsf {} fsdf: \".format(c))\n",
    "\n",
    "print(\"fdfdsf fdsfdsfdsf dfsdfdsf {0} fsdf {1}: \".format(a,c))\n",
    "\n",
    "print(\"fdfdsf fdsfdsfdsf dfsdfdsf {1} fsdf {0}: \".format(a,c))\n",
    "\n",
    "num = 8\n",
    "num_sqrt = num ** 0.5\n",
    "\n",
    "print('The square root % of %0.3f '% (num,num_sqrt))\n"
   ]
  },
  {
   "cell_type": "code",
   "execution_count": 37,
   "metadata": {},
   "outputs": [
    {
     "name": "stdout",
     "output_type": "stream",
     "text": [
      "1 2 3 4\n",
      "1,2,3,4\n",
      "1%2%3%4&&&\n",
      "\n",
      "Hello Noor,Good Morning\n"
     ]
    }
   ],
   "source": [
    "#print(Object,sep='',end='\\n',,file=sys.stdout,flush = False)\n",
    "\n",
    "print(1,2,3,4)\n",
    "\n",
    "print(1,2,3,4,sep=\",\")\n",
    "\n",
    "print(1,2,3,4,sep=\"%\",end=\"&&&\")\n",
    "print(\"\\n\")\n",
    "\n",
    "print('Hello {name},{greeting}'.format(name='Noor',greeting='Good Morning'))"
   ]
  },
  {
   "cell_type": "code",
   "execution_count": 43,
   "metadata": {},
   "outputs": [
    {
     "name": "stdout",
     "output_type": "stream",
     "text": [
      "Enter42\n",
      "42\n"
     ]
    },
    {
     "data": {
      "text/plain": [
       "int"
      ]
     },
     "execution_count": 43,
     "metadata": {},
     "output_type": "execute_result"
    }
   ],
   "source": [
    "num  = int(input(\"Enter\"));\n",
    "\n",
    "print(num)\n",
    "\n",
    "type(num)\n",
    "\n",
    "\n"
   ]
  },
  {
   "cell_type": "code",
   "execution_count": 47,
   "metadata": {},
   "outputs": [
    {
     "name": "stdout",
     "output_type": "stream",
     "text": [
      "Enter the first value : 76\n",
      "Enter the Second value : 322\n",
      "sum of 322 and 76 is 398 \n",
      "sum of  76  and  322  is  398\n"
     ]
    }
   ],
   "source": [
    "#write a program of two numbers\n",
    "\n",
    "num1  = int(input(\"Enter the first value : \"));\n",
    "num2  = int(input(\"Enter the Second value : \"));\n",
    "\n",
    "sum1 = num1 + num2\n",
    "\n",
    "print(\"sum of {1} and {0} is {2} \".format(num1,888,sum1))\n",
    "\n",
    "print(\"sum of \", num1,\" and \",num2,\" is \",sum1)\n",
    "\n",
    "\n"
   ]
  },
  {
   "cell_type": "code",
   "execution_count": 51,
   "metadata": {},
   "outputs": [
    {
     "name": "stdout",
     "output_type": "stream",
     "text": [
      "3.141592653589793\n",
      "3.141592653589793\n",
      "3.141592653589793\n"
     ]
    }
   ],
   "source": [
    "#import\n",
    "\n",
    "import math\n",
    "\n",
    "print(math.pi)\n",
    "\n",
    "from math import pi\n",
    "\n",
    "print(pi)\n",
    "\n"
   ]
  },
  {
   "cell_type": "code",
   "execution_count": 74,
   "metadata": {},
   "outputs": [
    {
     "name": "stdout",
     "output_type": "stream",
     "text": [
      "Condition satisfied\n",
      "in if\n",
      "2\n",
      "40\n",
      "False\n",
      "False\n",
      "True\n"
     ]
    }
   ],
   "source": [
    "#Python Operators\n",
    "\n",
    "#Arithmetic - +,-,*,/,%,//,**\n",
    "\n",
    "a = 10\n",
    "b = 3\n",
    "a/b # float -3.33333\n",
    "a%b\n",
    "a//b #- 3\n",
    "a**b\n",
    "\n",
    "#Comparison operator <,>,==,!=,>=,<=\n",
    "\n",
    "#Logical operator  and, or ,not\n",
    "\n",
    "a = 5\n",
    "b = 6\n",
    "\n",
    "if((a==3) or (b==6)):\n",
    "    print(\"Condition satisfied\")\n",
    "\n",
    "if(not (a ==1)):\n",
    "    print(\"in if\")\n",
    "    \n",
    "#Bitwise operator &,|,~,^,>>,<<\n",
    "\n",
    "x = 10 #(0000 1010)\n",
    "y = 4  #(0000 0100)\n",
    "\n",
    "x & y  #(0000 0000)\n",
    "x | y  #(0000 1110)\n",
    "~x     #(1111 0101)\n",
    "\n",
    "print(x>>2)   #(0000 0010)\n",
    "print(x<<2)   #(0010 1000)\n",
    "\n",
    "#Assigngment operator\n",
    "\n",
    "# =,+=,-=,*=,/=\n",
    "\n",
    "\n",
    "#Identity operator\n",
    "\n",
    "# is, is not\n",
    "\n",
    "x1 = 5\n",
    "y1 = 5\n",
    "\n",
    "print(x1 is not y1)\n",
    "\n",
    "#Membership operator\n",
    "\n",
    "# in , not in\n",
    "x = 'Hello world'\n",
    "\n",
    "print('H' not in x)\n",
    "\n",
    "y =[1,2,3,7,5]\n",
    "\n",
    "print(5 in y)\n"
   ]
  },
  {
   "cell_type": "code",
   "execution_count": 85,
   "metadata": {},
   "outputs": [
    {
     "name": "stdout",
     "output_type": "stream",
     "text": [
      "Negative number\n"
     ]
    }
   ],
   "source": [
    "num = -1\n",
    "\n",
    "if num > 0:\n",
    "    print(\"Positive number\")\n",
    "elif(num ==0):\n",
    "    print(\"It is zero\")\n",
    "else:\n",
    "    print(\"Negative number\")\n"
   ]
  },
  {
   "cell_type": "code",
   "execution_count": 95,
   "metadata": {},
   "outputs": [
    {
     "data": {
      "text/plain": [
       "[2, 4, 6, 8]"
      ]
     },
     "execution_count": 95,
     "metadata": {},
     "output_type": "execute_result"
    }
   ],
   "source": [
    "list(range(2,10,2))"
   ]
  },
  {
   "cell_type": "code",
   "execution_count": 96,
   "metadata": {},
   "outputs": [
    {
     "name": "stdout",
     "output_type": "stream",
     "text": [
      "1\n",
      "2\n",
      "3\n",
      "4\n",
      "5\n",
      "6\n",
      "7\n",
      "8\n",
      "9\n"
     ]
    }
   ],
   "source": [
    "for i in range(1,10):\n",
    "    print(i)"
   ]
  },
  {
   "cell_type": "code",
   "execution_count": 97,
   "metadata": {},
   "outputs": [
    {
     "name": "stdout",
     "output_type": "stream",
     "text": [
      "idli\n",
      "vada\n",
      "biryani\n"
     ]
    }
   ],
   "source": [
    "food = ['idli','vada','biryani']\n",
    "for i in food:\n",
    "    print(i)"
   ]
  },
  {
   "cell_type": "code",
   "execution_count": 102,
   "metadata": {},
   "outputs": [
    {
     "name": "stdout",
     "output_type": "stream",
     "text": [
      "inside else\n"
     ]
    }
   ],
   "source": [
    "counter = 0 \n",
    "while counter>3:\n",
    "    print(\"inside loop\")\n",
    "    counter = counter + 1\n",
    "else:\n",
    "    print(\"inside else\")\n"
   ]
  },
  {
   "cell_type": "code",
   "execution_count": 112,
   "metadata": {},
   "outputs": [
    {
     "name": "stdout",
     "output_type": "stream",
     "text": [
      "S\n",
      "t\n",
      "\n",
      "\n",
      "S\n",
      "t\n",
      "i\n",
      "n\n",
      "g\n"
     ]
    }
   ],
   "source": [
    "for val in \"String\":\n",
    "    if val == \"r\":\n",
    "        break\n",
    "    print(val)\n",
    "    \n",
    "print('\\n')\n",
    "for val in \"String\":\n",
    "    if val == \"r\":\n",
    "        continue\n",
    "    print(val)\n",
    "    "
   ]
  },
  {
   "cell_type": "code",
   "execution_count": 111,
   "metadata": {},
   "outputs": [],
   "source": [
    "#pass statement is used to construct a body that does nothing\n",
    "\n",
    "seq = {1,2,3}\n",
    "for val in seq:\n",
    "    pass\n",
    "\n",
    "def funct(args):\n",
    "    pass\n",
    "\n",
    "class example:\n",
    "    pass\n",
    "    \n",
    "    \n",
    "    "
   ]
  }
 ],
 "metadata": {
  "kernelspec": {
   "display_name": "Python 3",
   "language": "python",
   "name": "python3"
  },
  "language_info": {
   "codemirror_mode": {
    "name": "ipython",
    "version": 3
   },
   "file_extension": ".py",
   "mimetype": "text/x-python",
   "name": "python",
   "nbconvert_exporter": "python",
   "pygments_lexer": "ipython3",
   "version": "3.6.1"
  }
 },
 "nbformat": 4,
 "nbformat_minor": 2
}
